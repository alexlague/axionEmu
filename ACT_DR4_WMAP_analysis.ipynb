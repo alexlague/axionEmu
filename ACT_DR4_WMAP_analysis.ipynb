{
 "cells": [
  {
   "cell_type": "markdown",
   "metadata": {
    "colab_type": "text",
    "id": "view-in-github"
   },
   "source": [
    "<a href=\"https://colab.research.google.com/github/keirkwame/axionEmu/blob/main/Open_access_version_of_4e5_Planck_2018_3x2pt_analysis_(ma%3D_29).ipynb\" target=\"_parent\"><img src=\"https://colab.research.google.com/assets/colab-badge.svg\" alt=\"Open In Colab\"/></a>"
   ]
  },
  {
   "cell_type": "code",
   "execution_count": 1,
   "metadata": {
    "colab": {
     "base_uri": "https://localhost:8080/"
    },
    "id": "HfNUUPNseb_f",
    "outputId": "1ad5fa03-9043-4a0f-9402-d8713d8e388e"
   },
   "outputs": [
    {
     "name": "stdout",
     "output_type": "stream",
     "text": [
      "WARNING:tensorflow:From <ipython-input-1-9a8558467fd0>:12: is_gpu_available (from tensorflow.python.framework.test_util) is deprecated and will be removed in a future version.\n",
      "Instructions for updating:\n",
      "Use `tf.config.list_physical_devices('GPU')` instead.\n",
      "using gpu:0 device \n",
      "\n"
     ]
    }
   ],
   "source": [
    "import numpy as np\n",
    "import tensorflow as tf\n",
    "import matplotlib.pyplot as plt\n",
    "import scipy.stats as sps\n",
    "import getdist\n",
    "from tqdm import trange\n",
    "\n",
    "#Install ACT DR4 likelihood\n",
    "import pyactlike\n",
    "\n",
    "# checking that we are using a GPU\n",
    "device = 'gpu:0' if tf.test.is_gpu_available() else 'cpu'\n",
    "print('using', device, 'device \\n')\n"
   ]
  },
  {
   "cell_type": "code",
   "execution_count": null,
   "metadata": {
    "colab": {
     "base_uri": "https://localhost:8080/"
    },
    "id": "tv5hlj9Yey9G",
    "outputId": "f9fe2c84-21dd-41b2-9ec6-ac0617e9dca3"
   },
   "outputs": [],
   "source": [
    "from google.colab import drive\n",
    "drive.mount('/content/drive')"
   ]
  },
  {
   "cell_type": "code",
   "execution_count": null,
   "metadata": {
    "colab": {
     "base_uri": "https://localhost:8080/"
    },
    "id": "vamZJ4J1e0ok",
    "outputId": "f4d6b961-3a6b-412d-f296-ed04d8d3c2f0"
   },
   "outputs": [],
   "source": [
    "pip install git+https://github.com/justinalsing/affine.git"
   ]
  },
  {
   "cell_type": "code",
   "execution_count": 2,
   "metadata": {
    "id": "RyFpnVJ4fNhp"
   },
   "outputs": [],
   "source": [
    "import affine"
   ]
  },
  {
   "cell_type": "code",
   "execution_count": 3,
   "metadata": {
    "id": "cNBcHUEiTOrf"
   },
   "outputs": [],
   "source": [
    "from axionEmu.cosmopower.cosmopower_NN import cosmopower_NN"
   ]
  },
  {
   "cell_type": "code",
   "execution_count": 4,
   "metadata": {
    "id": "xwHzqSWFTZbU"
   },
   "outputs": [],
   "source": [
    "from axionEmu.cosmopower.cosmopower_PCAplusNN import cosmopower_PCAplusNN"
   ]
  },
  {
   "cell_type": "code",
   "execution_count": null,
   "metadata": {
    "id": "l4K9fDm3fVH7"
   },
   "outputs": [],
   "source": [
    "##DM-like axions (m > 5.e-27 eV)\n",
    "\n",
    "tt_emu_model_ax = cosmopower_NN(restore=True,\n",
    "                                restore_filename='/home/keir/Software/axionEmu/axion_CMB_models/TT_cp_NN_5e5_DM_t2' #TT_lensed_NL_NN_axion'\n",
    "                               )\n",
    "\n",
    "te_emu_model_ax = cosmopower_PCAplusNN(restore=True,\n",
    "                                restore_filename='/home/keir/Software/axionEmu/axion_CMB_models/TE_cp_PCAplusNN_5e5_DM_t2' #TE_lensed_NL_NN_axion'\n",
    "                               )\n",
    "\n",
    "ee_emu_model_ax = cosmopower_NN(restore=True,\n",
    "                                restore_filename='/home/keir/Software/axionEmu/axion_CMB_models/EE_cp_NN_5e5_DM_t2' #EE_lensed_NL_NN_axion'\n",
    "                                )"
   ]
  },
  {
   "cell_type": "code",
   "execution_count": null,
   "metadata": {
    "colab": {
     "base_uri": "https://localhost:8080/"
    },
    "id": "H0b5WrwgN5NM",
    "outputId": "cec59bcc-b4b2-40e7-db56-7d443039fe3c"
   },
   "outputs": [],
   "source": [
    "##DE-like axions (m < 5.e-27 eV)\n",
    "\n",
    "tt_emu_model_ax = cosmopower_NN(restore=True,\n",
    "                                restore_filename='/home/keir/Software/axionEmu/axion_CMB_models/TT_cp_NN_5e5_DE_t2'\n",
    "                               )\n",
    "\n",
    "te_emu_model_ax = cosmopower_PCAplusNN(restore=True,\n",
    "                                restore_filename='/home/keir/Software/axionEmu/axion_CMB_models/TE_cp_PCAplusNN_5e5_DE_t2'\n",
    "                               )\n",
    "\n",
    "ee_emu_model_ax = cosmopower_NN(restore=True,\n",
    "                                restore_filename='/home/keir/Software/axionEmu/axion_CMB_models/EE_cp_NN_5e5_DE_t2'\n",
    "                                )"
   ]
  },
  {
   "cell_type": "code",
   "execution_count": null,
   "metadata": {},
   "outputs": [],
   "source": [
    "##Axion lensing model for ACT DR6\n",
    "pp_emu_model_ax = cosmopower_NN(restore=True, restore_filename='/home/keir/Software/axionEmu/phi_NN_axion')\n"
   ]
  },
  {
   "cell_type": "code",
   "execution_count": null,
   "metadata": {
    "id": "QKwaYShzZKJK"
   },
   "outputs": [],
   "source": [
    "cosmo_params = dict()\n",
    "cosmo_params['h'] = np.array([0.7])\n",
    "cosmo_params['tau_reio'] = np.array([0.055])\n",
    "cosmo_params['omega_b'] = np.array([0.0224])\n",
    "cosmo_params['omega_cdm'] = np.array([0.12])\n",
    "cosmo_params['n_s'] = np.array([0.96])\n",
    "cosmo_params['omega_ax'] =np.array([0.001])\n",
    "cosmo_params['log10ma'] = np.array([7],dtype='float64')\n",
    "cosmo_params['ln10A_s'] = np.array([3.48])"
   ]
  },
  {
   "cell_type": "code",
   "execution_count": null,
   "metadata": {
    "colab": {
     "base_uri": "https://localhost:8080/"
    },
    "id": "kjaKEMo5e2Uu",
    "outputId": "979f4124-c171-4175-b983-ec251bcb3b0d"
   },
   "outputs": [],
   "source": [
    "len([list(cosmo_params.keys())])"
   ]
  },
  {
   "cell_type": "code",
   "execution_count": null,
   "metadata": {
    "id": "NnZAVO9rZrXw"
   },
   "outputs": [],
   "source": [
    "b = pp_emu_model_ax.predictions_np(cosmo_params)"
   ]
  },
  {
   "cell_type": "code",
   "execution_count": null,
   "metadata": {
    "colab": {
     "base_uri": "https://localhost:8080/"
    },
    "id": "s2LC1etZZw1p",
    "outputId": "7cfe99a0-beab-4b83-83b1-491d44cfad73"
   },
   "outputs": [],
   "source": [
    "b[0].shape"
   ]
  },
  {
   "cell_type": "code",
   "execution_count": null,
   "metadata": {
    "colab": {
     "base_uri": "https://localhost:8080/",
     "height": 294
    },
    "id": "_B7LFb8sXnTr",
    "outputId": "88199396-4f89-4900-c276-87dd984b74f8"
   },
   "outputs": [],
   "source": [
    "#Testing power spectrum prediction\n",
    "plt.plot(b[0])"
   ]
  },
  {
   "cell_type": "code",
   "execution_count": null,
   "metadata": {},
   "outputs": [],
   "source": [
    "#Import WMAP likelihood\n",
    "from wmaplike import WMAPLike\n"
   ]
  },
  {
   "cell_type": "code",
   "execution_count": null,
   "metadata": {},
   "outputs": [],
   "source": [
    "import multiprocessing as mp\n",
    "mp.set_start_method('spawn')\n",
    "import copy as cp\n",
    "from get_likelihood_WMAP import get_likelihood_WMAP\n"
   ]
  },
  {
   "cell_type": "code",
   "execution_count": null,
   "metadata": {},
   "outputs": [],
   "source": [
    "##WMAP likelihood\n",
    "# parameters of the analysis, and their priors\n",
    "parameters_and_priors_ax = {'omega_b':      [0.0174, 0.0274, 'uniform'],\n",
    "                         'omega_cdm':    [1.e-32, 0.14, 'uniform'],\n",
    "                         'h':            [0.55, 0.82,   'uniform'],\n",
    "                         'tau_reio':     [0.065, 0.015,   'gaussian'],\n",
    "                         'n_s':          [0.86, 1.07,   'uniform'],\n",
    "                         'ln10A_s': [1.61,  3.4,  'uniform'],\n",
    "                          #'log10ma': [2.9, 3.1, 'uniform'], #10^32ma(ma in unit of eV)\n",
    "                         'omega_ax': [1.e-32, 0.14,  'uniform'],\n",
    "                         'yp':     [0.9, 1.1,  'uniform']\n",
    "                         }\n",
    "fixed = {'log10ma': 7.0} #, 'omega_ax': 9.794086321726434e-10}\n",
    "\n",
    "#Create prior arrays\n",
    "prior_min = np.array([0.0174, 1.e-32, 0.55, 0.01, 0.86, 1.61, 1.e-32, 0.9]) #, 1.e-32, 0.9])\n",
    "prior_max = np.array([0.0274, 0.14, 0.82, 0.26, 1.07, 3.4, 0.14, 1.1]) #, 0.01, 1.1])\n",
    "\n",
    "#Create Gaussian prior function\n",
    "gaussian_obj = sps.norm(loc=0.065, scale=0.015)\n",
    "\n",
    "#Create WMAP likelihood object\n",
    "like = WMAPLike({'packages_path': '/tmp/SPT_packages', \"use_lowl_TT\" : True, \"use_highl_TT\" : True,\n",
    "                        \"use_highl_TE\" : True, \"use_highl_TB\" : False, \"use_lowl_pol\" : False,\n",
    "                        \"use_lowl_TBEB\" : False, \"use_highl_TT_beam_ptsrc\" : False, \"use_sz\" : False,\n",
    "                        \"debug\" : False, 'temin': 24, 'ttmax': 1200, 'temax': 800})\n",
    "\n",
    "def log_prob_ax(theta):\n",
    "  \"\"\"Posterior probability given WMAP likelihood and emulated theory.\"\"\"\n",
    "  print('Calling likelihood function')\n",
    "  emulators=[tt_emu_model_ax, te_emu_model_ax]\n",
    "  ell=np.linspace(2,6000,5999)\n",
    "\n",
    "  emulator_tt, emulator_te = emulators\n",
    "  ell = ell.reshape(1, -1)\n",
    "\n",
    "  #Create theta dictionary\n",
    "  theta_dict = {key: theta[:, i].numpy() for i, key in enumerate(parameters_and_priors_ax.keys())}\n",
    "  #yp = theta_dict['yp']\n",
    "  #theta_dict.pop('yp', None)\n",
    "  theta_all_dict = {**theta_dict, **fixed}\n",
    "  for key in fixed.keys():\n",
    "    theta_all_dict[key] = np.array([theta_all_dict[key],] * theta.shape[0])\n",
    "  #print(theta_all_dict)\n",
    "\n",
    "  #Add fixed parameters\n",
    "  '''theta_fixed = np.zeros((theta.get_shape().as_list()[0], len(fixed.keys())))\n",
    "  for i, key in enumerate(fixed.keys()):\n",
    "    theta_fixed[:, i] = np.array([fixed[key],] * theta.get_shape().as_list()[0])\n",
    "  theta_all = tf.concat([theta, tf.convert_to_tensor(theta_fixed)], 1)\n",
    "  '''\n",
    "\n",
    "  #Get emulated theory vectors\n",
    "  d_ell_tt = emulator_tt.ten_to_predictions_np(theta_all_dict) * ell * (ell + 1.) / (2. * np.pi) * ((2.7255e+6)**2) #Convert to uK^2 #Check conversion!\n",
    "  #print(d_ell_tt.shape, d_ell_tt)\n",
    "  d_ell_te = emulator_te.predictions_np(theta_all_dict) * ell * (ell + 1.) / (2. * np.pi) * ((2.7255e+6)**2) #Convert to uK^2\n",
    "  #print(d_ell_te.shape, d_ell_te)\n",
    "  #d_ell_ee = emulator_ee.ten_to_predictions_np(theta_all_dict) * ell * (ell + 1.) / (2. * np.pi) * ((2.7255e+6)**2) #Convert to uK^2\n",
    "  #print(d_ell_ee.shape, d_ell_ee)\n",
    "\n",
    "  #Get likelihood\n",
    "  #likelihood = np.ones(d_ell_tt.shape[0]) * -1.e+10\n",
    "  d_ell_dict = [{d_ell_name: np.zeros(1300) for d_ell_name in [ \"tt\", \"te\"]} for i in range(d_ell_tt.shape[0])] #* d_ell_tt.shape[0] #ell.shape[1] + 2\n",
    "  #print(d_ell_dict[0])\n",
    "\n",
    "  for i in range(d_ell_tt.shape[0]):\n",
    "    #print('Params #', i)\n",
    "    d_ell_dict[i]['likelihood_object'] = like\n",
    "    if np.sum(theta[i].numpy() > prior_max) + np.sum(theta[i].numpy() < prior_min):\n",
    "      #Set power spectra to zero\n",
    "      d_ell_dict[i]['zero_prior'] = True\n",
    "      #print('Prior = zero', d_ell_dict[i]['zero_prior'])\n",
    "    else:\n",
    "      #Put angular power spectra into dictionary\n",
    "      d_ell_dict[i]['tt'][2:] = d_ell_tt[i][:1300-2]\n",
    "      d_ell_dict[i]['te'][2:] = d_ell_te[i][:1300-2]\n",
    "      d_ell_dict[i]['zero_prior'] = False\n",
    "      #print('Prior > zero', d_ell_dict[i]['zero_prior'])\n",
    "\n",
    "  #print(d_ell_dict)\n",
    "\n",
    "  #print('Evaluating likelihood #', i)\n",
    "  #likelihood[i], _ = like.loglike(d_ell_dict)\n",
    "  #Multiprocessing version of getting likelihood\n",
    "  with mp.Pool(processes=d_ell_tt.shape[0]) as pool:\n",
    "      likelihood = np.array(pool.map(get_likelihood_WMAP, d_ell_dict))\n",
    "  pool.close()\n",
    "  pool.join()\n",
    "\n",
    "  #Apply any Gaussian prior\n",
    "  #print(np.log(gaussian_obj.pdf(theta_all_dict['tau_reio'])))\n",
    "  likelihood += np.log(gaussian_obj.pdf(theta_all_dict['tau_reio']))\n",
    "\n",
    "  #print(likelihood)\n",
    "  likelihood_tf = tf.convert_to_tensor(likelihood, np.float32)\n",
    "  #print(likelihood_tf)\n",
    "\n",
    "  return likelihood_tf\n",
    "\n",
    "FIDUCIAL = np.reshape(np.array([ 0.022242,  0.1197,  0.673,  0.1,  0.9658,  3.0753, 0.005, 1.0]).astype('float32'), (1, 8))\n",
    "EPSILON  = np.reshape(np.array([ 1E-4,      1E-4,     1E-2,   1E-3,   1E-3,    1E-3, 1E-4, 1.E-3]).astype('float32'), (1,8))\n"
   ]
  },
  {
   "cell_type": "code",
   "execution_count": null,
   "metadata": {},
   "outputs": [],
   "source": [
    "##Test WMAP likelihood\n",
    "theta_test = tf.convert_to_tensor(np.array([[0.02153, 0.1178, 0.679, 0.065, 1.008, 3.05, 0.005, 1.0], [0.021, 0.11, 0.71, 0.11, 0.91, 3.01, 0.001, 1.0], [0.001, 0.11, 0.71, 0.11, 0.91, 3.01, 0.001, 1.0]]), np.float32)\n",
    "print(theta_test)\n",
    "likelihood_test = log_prob_ax(theta_test)\n",
    "print('likelihood_test =', likelihood_test)\n",
    "#print(d_ell_dict)\n"
   ]
  },
  {
   "cell_type": "code",
   "execution_count": null,
   "metadata": {},
   "outputs": [],
   "source": [
    "##ACT DR4 likelihood\n",
    "# parameters of the analysis, and their priors\n",
    "'''parameters_and_priors_ax = {'omega_b':      [0.0174, 0.0274, 'uniform'],\n",
    "                         'omega_cdm':    [1.e-32, 0.14, 'uniform'],\n",
    "                         'h':            [0.55, 0.82,   'uniform'],\n",
    "                         'tau_reio':     [0.065, 0.015,   'gaussian'],\n",
    "                         'n_s':          [0.86, 1.07,   'uniform'],\n",
    "                         'ln10A_s': [1.61,  3.4,  'uniform'],\n",
    "                          #'log10ma': [2.9, 3.1, 'uniform'], #10^32ma(ma in unit of eV)\n",
    "                          'omega_ax': [1.e-32, 0.14,  'uniform'],\n",
    "                         'yp':     [0.9, 1.1,  'uniform'],\n",
    "                         }\n",
    "fixed = {'log10ma': 7.0} #, 'omega_ax': 9.794086321726434e-10}\n",
    "\n",
    "#Create prior arrays\n",
    "prior_min = np.array([0.0174, 1.e-32, 0.55, 0.01, 0.86, 1.61, 1.e-32, 0.9])\n",
    "prior_max = np.array([0.0274, 0.14, 0.82, 0.26, 1.07, 3.4, 0.14, 1.1])\n",
    "\n",
    "#Create Gaussian prior function\n",
    "gaussian_obj = sps.norm(loc=0.065, scale=0.015)'''\n",
    "\n",
    "#@tf.function #Can't use graph mode until re-write likelihood in tf\n",
    "def log_prob_ax_ACT_DR4(theta):\n",
    "  \"\"\"Posterior probability given ACT DR4 likelihood and emulated theory.\"\"\"\n",
    "  emulators=[tt_emu_model_ax, te_emu_model_ax, ee_emu_model_ax]\n",
    "  ell=np.linspace(2,6000,5999)\n",
    "\n",
    "  emulator_tt, emulator_te, emulator_ee = emulators\n",
    "  ell = ell.reshape(1, -1)\n",
    "  like = pyactlike.ACTPowerSpectrumData()\n",
    "  #like.tt_lmax = int(np.max(ell))\n",
    "\n",
    "  #Create theta dictionary\n",
    "  theta_dict = {key: theta[:, i].numpy() for i, key in enumerate(parameters_and_priors_ax.keys())}\n",
    "  yp = theta_dict['yp']\n",
    "  theta_dict.pop('yp', None)\n",
    "  theta_all_dict = {**theta_dict, **fixed}\n",
    "  for key in fixed.keys():\n",
    "    theta_all_dict[key] = np.array([theta_all_dict[key],] * theta.shape[0])\n",
    "  #print(theta_all_dict)\n",
    "\n",
    "  #Add fixed parameters\n",
    "  '''theta_fixed = np.zeros((theta.get_shape().as_list()[0], len(fixed.keys())))\n",
    "  for i, key in enumerate(fixed.keys()):\n",
    "    theta_fixed[:, i] = np.array([fixed[key],] * theta.get_shape().as_list()[0])\n",
    "  theta_all = tf.concat([theta, tf.convert_to_tensor(theta_fixed)], 1)\n",
    "  '''\n",
    "\n",
    "  #Get emulated theory vectors\n",
    "  d_ell_tt = emulator_tt.ten_to_predictions_np(theta_all_dict) * ell * (ell + 1.) / (2. * np.pi) * ((2.7255e+6)**2) #Convert to uK^2 #Check conversion!\n",
    "  #print(d_ell_tt.shape, d_ell_tt)\n",
    "  d_ell_te = emulator_te.predictions_np(theta_all_dict) * ell * (ell + 1.) / (2. * np.pi) * ((2.7255e+6)**2) #Convert to uK^2\n",
    "  #print(d_ell_te.shape, d_ell_te)\n",
    "  d_ell_ee = emulator_ee.ten_to_predictions_np(theta_all_dict) * ell * (ell + 1.) / (2. * np.pi) * ((2.7255e+6)**2) #Convert to uK^2\n",
    "  #print(d_ell_ee.shape, d_ell_ee)\n",
    "\n",
    "  #Get likelihood\n",
    "  #likelihood = np.array([like.loglike(d_ell_tt[i], d_ell_te[i], d_ell_ee[i], yp[i]**2.) for i in range(d_ell_tt.shape[0])])\n",
    "  likelihood = np.ones(d_ell_tt.shape[0]) * -1.e+10\n",
    "  for i in range(d_ell_tt.shape[0]):\n",
    "    if np.sum(theta[i].numpy() > prior_max) + np.sum(theta[i].numpy() < prior_min):\n",
    "      pass\n",
    "    else:\n",
    "      likelihood[i] = like.loglike(d_ell_tt[i], d_ell_te[i], d_ell_ee[i], yp[i])\n",
    "\n",
    "  #Apply any Gaussian prior\n",
    "  #print(np.log(gaussian_obj.pdf(theta_all_dict['tau_reio'])))\n",
    "  #likelihood += np.log(gaussian_obj.pdf(theta_all_dict['tau_reio']))\n",
    "\n",
    "  #print(likelihood)\n",
    "  likelihood_tf = tf.convert_to_tensor(likelihood, np.float32)\n",
    "  #print(likelihood_tf)\n",
    "\n",
    "  return likelihood_tf\n",
    "\n",
    "FIDUCIAL = np.reshape(np.array([ 0.022242,  0.1197,  0.673,  0.1,  0.9658,  3.0753, 0.005, 1.0]).astype('float32'), (1, 8))\n",
    "EPSILON  = np.reshape(np.array([ 1E-4,      1E-4,     1E-2,   1E-3,   1E-3,    1E-3, 1E-4, 1E-4]).astype('float32'), (1,8))\n"
   ]
  },
  {
   "cell_type": "code",
   "execution_count": null,
   "metadata": {},
   "outputs": [],
   "source": [
    "##Test ACT likelihood\n",
    "theta_test = tf.convert_to_tensor(np.array([[0.02153, 0.1178, 0.679, 0.065, 1.008, 3.05, 0.005, 1.0008], [0.021, 0.11, 0.71, 0.11, 0.91, 3.01, 0.005, 1.01], [0.001, 0.11, 0.71, 0.11, 0.91, 3.01, 0.001, 1.01]]), np.float32)\n",
    "print(theta_test)\n",
    "likelihood_test = log_prob_ax_ACT_DR4(theta_test)\n",
    "print('likelihood_test =', likelihood_test)\n"
   ]
  },
  {
   "cell_type": "code",
   "execution_count": null,
   "metadata": {},
   "outputs": [],
   "source": [
    "import act_dr6_lenslike as alike\n"
   ]
  },
  {
   "cell_type": "code",
   "execution_count": null,
   "metadata": {},
   "outputs": [],
   "source": [
    "##ACT DR6 likelihood\n",
    "# parameters of the analysis, and their priors\n",
    "parameters_and_priors_ax = {'omega_b':      [0.019, 0.026, 'uniform'],\n",
    "                         'omega_cdm':    [0.0003, 0.14, 'uniform'],\n",
    "                         'h':            [0.55, 0.82,   'uniform'],\n",
    "                         'tau_reio':     [0.065, 0.015,   'gaussian'],\n",
    "                          #'tau_reio':     [0.02, 0.12,   'uniform'],\n",
    "                         'n_s':          [0.86, 1.07,   'uniform'],\n",
    "                         'ln10A_s': [1.610,  3.258,  'uniform'],\n",
    "                          #'log10ma': [2.9, 3.1, 'uniform'], #10^32ma(ma in unit of eV)\n",
    "                         'omega_ax': [1.e-32, 0.13,  'uniform'],\n",
    "                          #'yp':     [0.9, 1.1,  'uniform'],\n",
    "                         'A_planck':     [1.0,   0.0025,  'gaussian']\n",
    "                         }\n",
    "fixed = {'log10ma': 8.0} #, 'omega_ax': 9.794086321726434e-10} #, 'tau_reio': 0.07}\n",
    "\n",
    "#Create prior arrays\n",
    "prior_min = np.array([0.019, 0.0003, 0.55, 0.02, 0.86, 1.610, 1.e-32, 0.95])\n",
    "prior_max = np.array([0.026, 0.14, 0.82, 0.12, 1.07, 3.258, 0.13, 1.05])\n",
    "\n",
    "#Create Gaussian prior function\n",
    "#gaussian_obj = sps.norm(loc=0.065, scale=0.015) #tau\n",
    "#gaussian_obj_ns = sps.norm(loc=0.96, scale=0.02)\n",
    "#gaussian_obj_baryon = sps.norm(loc=0.02233, scale=0.00036)\n",
    "\n",
    "#Load ACT DR6 data\n",
    "variant = 'act_extended'\n",
    "lens_only = False\n",
    "like_corrections = False\n",
    "trim_lmax = 1450\n",
    "data_dict = alike.load_data(variant, lens_only=lens_only, like_corrections=like_corrections, trim_lmax=trim_lmax)\n",
    "\n",
    "#@tf.function #Can't use graph mode until re-write likelihood in tf\n",
    "def log_prob_ax(theta):\n",
    "  \"\"\"Posterior probability given ACT DR6 likelihood and emulated theory.\"\"\"\n",
    "  emulators=[tt_emu_model_ax, te_emu_model_ax, ee_emu_model_ax, pp_emu_model_ax]\n",
    "  ell=np.linspace(2,1500, 1499)\n",
    "  ell_primary = np.linspace(2,6000, 5999)\n",
    "\n",
    "  emulator_tt, emulator_te, emulator_ee, emulator_pp = emulators\n",
    "  ell = ell.reshape(1, -1)\n",
    "  ell_primary = ell_primary.reshape(1, -1)\n",
    "\n",
    "  #Create theta dictionary\n",
    "  theta_dict = {key: theta[:, i].numpy() for i, key in enumerate(parameters_and_priors_ax.keys())}\n",
    "  #yp = theta_dict['yp']\n",
    "  #theta_dict.pop('yp', None)\n",
    "  theta_all_dict = {**theta_dict, **fixed}\n",
    "  for key in fixed.keys():\n",
    "    theta_all_dict[key] = np.array([theta_all_dict[key],] * theta.shape[0])\n",
    "  #print(theta_all_dict)\n",
    "\n",
    "  #Remove A_Planck\n",
    "  #del theta_all_dict['A_planck']\n",
    "\n",
    "  #Get emulated theory vectors\n",
    "  c_ell_tt = emulator_tt.ten_to_predictions_np(theta_all_dict) * ((2.7255e+6)**2) #Convert to uK^2 #Check conversion!\n",
    "  #print(d_ell_tt.shape, d_ell_tt)\n",
    "  c_ell_te = emulator_te.predictions_np(theta_all_dict) * ((2.7255e+6)**2) #Convert to uK^2\n",
    "  #print(d_ell_te.shape, d_ell_te)\n",
    "  c_ell_ee = emulator_ee.ten_to_predictions_np(theta_all_dict) * ((2.7255e+6)**2) #Convert to uK^2\n",
    "  #print(d_ell_ee.shape, d_ell_ee)\n",
    "  c_ell_kk = emulator_pp.ten_to_predictions_np(theta_all_dict) * np.pi / 2.\n",
    "\n",
    "  #Get likelihood\n",
    "  #likelihood = np.array([like.loglike(d_ell_tt[i], d_ell_te[i], d_ell_ee[i], yp[i]**2.) for i in range(d_ell_tt.shape[0])])\n",
    "  likelihood = np.ones(c_ell_kk.shape[0]) * -1.e+10\n",
    "  for i in range(c_ell_kk.shape[0]):\n",
    "    if np.sum(theta[i].numpy() > prior_max) + np.sum(theta[i].numpy() < prior_min):\n",
    "      pass\n",
    "    else:\n",
    "      #print(ell[0].shape, c_ell_kk[i].shape)\n",
    "      likelihood[i] = alike.generic_lnlike(data_dict, ell[0], c_ell_kk[i], ell_primary[0], c_ell_tt[i], c_ell_ee[i], c_ell_te[i], c_ell_tt[0], trim_lmax=trim_lmax) #like.loglike(d_ell_tt[i], d_ell_te[i], d_ell_ee[i], yp[i])\n",
    "\n",
    "  #Apply any Gaussian prior\n",
    "  #print(np.log(gaussian_obj.pdf(theta_all_dict['tau_reio'])))\n",
    "  #likelihood += np.log(gaussian_obj.pdf(theta_all_dict['tau_reio']))\n",
    "  #likelihood += np.log(gaussian_obj_ns.pdf(theta_all_dict['n_s']))\n",
    "  #likelihood += np.log(gaussian_obj_baryon.pdf(theta_all_dict['omega_b']))\n",
    "\n",
    "  #print(likelihood)\n",
    "  likelihood_tf = tf.convert_to_tensor(likelihood, np.float32)\n",
    "  #print(likelihood_tf)\n",
    "\n",
    "  return likelihood_tf\n",
    "\n",
    "FIDUCIAL = np.reshape(np.array([ 0.022242,  0.1197,  0.673, 0.065,  0.9658,  3.0753, 0.01, 1.0]).astype('float32'), (1, 8))\n",
    "EPSILON  = np.reshape(np.array([ 1E-4,      1E-4,     1E-2, 1E-4,   1E-3,    1E-3, 1.E-4, 1E-4]).astype('float32'), (1,8))\n"
   ]
  },
  {
   "cell_type": "code",
   "execution_count": null,
   "metadata": {},
   "outputs": [],
   "source": [
    "##Test ACT likelihood\n",
    "theta_test = tf.convert_to_tensor(np.array([[0.02153, 0.1178, 0.679, 0.065, 1.008, 3.05, 0.1, 1.0], [0.021, 0.11, 0.71, 0.065, 1.008, 3.01, 0.1, 1.0], [0.0191, 0.11, 0.71, 0.065, 0.91, 3.01, 0.001, 1.0]]), np.float32)\n",
    "print(theta_test)\n",
    "likelihood_test = log_prob_ax(theta_test)\n",
    "print('likelihood_test =', likelihood_test)\n"
   ]
  },
  {
   "cell_type": "code",
   "execution_count": null,
   "metadata": {
    "id": "EFW9yY8KfjvU"
   },
   "outputs": [],
   "source": [
    "##m = 1e-25 axion\n",
    "# path to the tf_planck2018_lite likelihood\n",
    "from axionEmu.tf_planck2018_lite_mod import tf_planck2018_lite\n",
    "tf_planck2018_lite_path = '/home/keir/Software/axionEmu/cosmopower/likelihoods/tf_planck2018_lite/'\n",
    "\n",
    "# parameters of the analysis, and their priors\n",
    "'''parameters_and_priors_ax = {'omega_b':      [0.0174, 0.0274, 'uniform'],\n",
    "                         'omega_cdm':    [0.0003, 0.149, 'uniform'],\n",
    "                         'h':            [0.64, 0.82,   'uniform'],\n",
    "                         'tau_reio':     [0.01, 0.26,   'uniform'],\n",
    "                         'n_s':          [0.86, 1.07,   'uniform'],\n",
    "                         'ln10A_s': [2.83,  3.4,  'uniform'],\n",
    "                          'omega_ax': [1e-32, 0.09,  'uniform'],\n",
    "                         'A_planck':     [1.0,   0.0025,  'gaussian'],\n",
    "                         }\n",
    "# fixed_1 = {'log10ma': 3.0, 'omega_ax': 9.794086321726434e-10}\n",
    "fixed = {'log10ma': 7.0}'''\n",
    "# instantiation\n",
    "tf_planck_ax = tf_planck2018_lite(parameters=parameters_and_priors_ax, \n",
    "                                  fix_parameters = fixed,\n",
    "                                  tf_planck2018_lite_path=tf_planck2018_lite_path,\n",
    "                                  ee_emu_model=ee_emu_model_ax,\n",
    "                                  tt_emu_model=tt_emu_model_ax,\n",
    "                                  te_emu_model=te_emu_model_ax)\n",
    "# tf_planck_2e4 = tf_planck2018_lite(parameters=parameters_and_priors_ax, \n",
    "#                                   fix_parameters = dict(),\n",
    "#                                   tf_planck2018_lite_path=tf_planck2018_lite_path,\n",
    "#                                   ee_emu_model=ee_emu_model_2e4,\n",
    "#                                   tt_emu_model=tt_emu_model_2e4,\n",
    "#                                   te_emu_model=te_emu_model_2e4)"
   ]
  },
  {
   "cell_type": "code",
   "execution_count": null,
   "metadata": {
    "id": "5BgbQvKPfmlP"
   },
   "outputs": [],
   "source": [
    "##m = 1e-25 axion\n",
    "FIDUCIAL = np.reshape(np.array([ 0.022242,  0.1197,  0.673,  0.055,  0.9658,  3.0753,  0.05, 1.0080]).astype('float32'), (1, 8))\n",
    "EPSILON  = np.reshape(np.array([ 1E-4,      1E-4,     1E-2,   1E-3,   1E-3,    1E-3,  1E-2, 1E-4]).astype('float32'), (1,8))\n",
    "# EPSILON  = np.reshape(np.array([ 1E-4,      1E-4,     1E-2,   1E-3,   1E-3,    1E-3,    1E-4]).astype('float32'), (1,7))"
   ]
  },
  {
   "cell_type": "code",
   "execution_count": null,
   "metadata": {
    "id": "ZbC92LtfWnVx"
   },
   "outputs": [],
   "source": [
    "##m = 1e-28 axion\n",
    "# path to the tf_planck2018_lite likelihood\n",
    "from axionEmu.tf_planck2018_lite_mod import tf_planck2018_lite\n",
    "tf_planck2018_lite_path = '/content/axionEmu/cosmopower/likelihoods/tf_planck2018_lite/'\n",
    "\n",
    "# parameters of the analysis, and their priors\n",
    "parameters_and_priors_ax = {'omega_b':      [0.0174, 0.0274, 'uniform'],\n",
    "                         'omega_lamda':    [0.16, 0.36, 'uniform'],\n",
    "                         'h':            [0.55, 0.82,   'uniform'],\n",
    "                         'tau_reio':     [0.01, 0.26,   'uniform'],\n",
    "                         'n_s':          [0.86, 1.07,   'uniform'],\n",
    "                         'ln10A_s': [2.83,  3.4,  'uniform'],\n",
    "                          #'log10ma': [2.9, 3.1, 'uniform'], #10^32ma(ma in unit of eV)\n",
    "                          'omega_ax': [1e-32, 0.01,  'uniform'],\n",
    "                         'A_planck':     [1.0,   0.0025,  'gaussian'],\n",
    "                         }\n",
    "# fixed_1 = {'log10ma': 3.0, 'omega_ax': 9.794086321726434e-10}\n",
    "fixed = {'log10ma': 4.0}\n",
    "# instantiation\n",
    "tf_planck_ax = tf_planck2018_lite(parameters=parameters_and_priors_ax, \n",
    "                                  fix_parameters = fixed,\n",
    "                                  tf_planck2018_lite_path=tf_planck2018_lite_path,\n",
    "                                  ee_emu_model=ee_emu_model_ax,\n",
    "                                  tt_emu_model=tt_emu_model_ax,\n",
    "                                  te_emu_model=te_emu_model_ax)\n",
    "# tf_planck_2e4 = tf_planck2018_lite(parameters=parameters_and_priors_ax, \n",
    "#                                   fix_parameters = dict(),\n",
    "#                                   tf_planck2018_lite_path=tf_planck2018_lite_path,\n",
    "#                                   ee_emu_model=ee_emu_model_2e4,\n",
    "#                                   tt_emu_model=tt_emu_model_2e4,\n",
    "#                                   te_emu_model=te_emu_model_2e4)"
   ]
  },
  {
   "cell_type": "code",
   "execution_count": null,
   "metadata": {
    "id": "KidFPk2aXEhM"
   },
   "outputs": [],
   "source": [
    "##m = 1e-28 axion\n",
    "FIDUCIAL = np.reshape(np.array([ 0.022242,  0.3107,  0.673,  0.1,  0.9658,  3.0753,  0.005, 1.0080]).astype('float32'), (1, 8))\n",
    "EPSILON  = np.reshape(np.array([ 1E-4,      1E-3,     1E-2,   1E-3,   1E-3,    1E-3,  1E-3, 1E-4]).astype('float32'), (1,8))\n",
    "# EPSILON  = np.reshape(np.array([ 1E-4,      1E-4,     1E-2,   1E-3,   1E-3,    1E-3,    1E-4]).astype('float32'), (1,7))"
   ]
  },
  {
   "cell_type": "code",
   "execution_count": null,
   "metadata": {
    "id": "z7f-9LMBKKjg"
   },
   "outputs": [],
   "source": [
    "##m = 1e-30 axion\n",
    "# path to the tf_planck2018_lite likelihood\n",
    "from axionEmu.tf_planck2018_lite_mod import tf_planck2018_lite\n",
    "tf_planck2018_lite_path = '/content/axionEmu/cosmopower/likelihoods/tf_planck2018_lite/'\n",
    "\n",
    "# parameters of the analysis, and their priors\n",
    "parameters_and_priors_ax = {'omega_b':      [0.0174, 0.0274, 'uniform'],\n",
    "                         'omega_lamda':    [0.16, 0.36, 'uniform'],\n",
    "                         'h':            [0.55, 0.82,   'uniform'],\n",
    "                         'tau_reio':     [0.01, 0.26,   'uniform'],\n",
    "                         'n_s':          [0.86, 1.07,   'uniform'],\n",
    "                         'ln10A_s': [2.83,  3.4,  'uniform'],\n",
    "                          #'log10ma': [2.9, 3.1, 'uniform'], #10^32ma(ma in unit of eV)\n",
    "                          'omega_ax': [1e-32, 0.01,  'uniform'],\n",
    "                         'A_planck':     [1.0,   0.0025,  'gaussian'],\n",
    "                         }\n",
    "# fixed_1 = {'log10ma': 3.0, 'omega_ax': 9.794086321726434e-10}\n",
    "fixed = {'log10ma': 2.0}\n",
    "# instantiation\n",
    "tf_planck_ax = tf_planck2018_lite(parameters=parameters_and_priors_ax, \n",
    "                                  fix_parameters = fixed,\n",
    "                                  tf_planck2018_lite_path=tf_planck2018_lite_path,\n",
    "                                  ee_emu_model=ee_emu_model_ax,\n",
    "                                  tt_emu_model=tt_emu_model_ax,\n",
    "                                  te_emu_model=te_emu_model_ax)\n",
    "# tf_planck_2e4 = tf_planck2018_lite(parameters=parameters_and_priors_ax, \n",
    "#                                   fix_parameters = dict(),\n",
    "#                                   tf_planck2018_lite_path=tf_planck2018_lite_path,\n",
    "#                                   ee_emu_model=ee_emu_model_2e4,\n",
    "#                                   tt_emu_model=tt_emu_model_2e4,\n",
    "#                                   te_emu_model=te_emu_model_2e4)"
   ]
  },
  {
   "cell_type": "code",
   "execution_count": null,
   "metadata": {
    "id": "pyjWW5zxKMZk"
   },
   "outputs": [],
   "source": [
    "##m = 1e-30 axion\n",
    "FIDUCIAL = np.reshape(np.array([ 0.022242,  0.3107,  0.673,  0.1,  0.9658,  3.0753,  0.005, 1.0080]).astype('float32'), (1, 8))\n",
    "EPSILON  = np.reshape(np.array([ 1E-4,      1E-3,     1E-2,   1E-3,   1E-3,    1E-3,  1E-3, 1E-4]).astype('float32'), (1,8))\n",
    "# EPSILON  = np.reshape(np.array([ 1E-4,      1E-4,     1E-2,   1E-3,   1E-3,    1E-3,    1E-4]).astype('float32'), (1,7))"
   ]
  },
  {
   "cell_type": "code",
   "execution_count": null,
   "metadata": {
    "id": "N77OVu7zaF__"
   },
   "outputs": [],
   "source": [
    "##LCDM\n",
    "# path to the tf_planck2018_lite likelihood\n",
    "from axionEmu.tf_planck2018_lite_mod import tf_planck2018_lite\n",
    "tf_planck2018_lite_path = '/home/keir/Software/axionEmu/cosmopower/likelihoods/tf_planck2018_lite/'\n",
    "\n",
    "# parameters of the analysis, and their priors\n",
    "'''parameters_and_priors_ax = {'omega_b':      [0.0174, 0.0274, 'uniform'],\n",
    "                         'omega_cdm':    [0.0003, 0.149, 'uniform'],\n",
    "                         'h':            [0.55, 0.82,   'uniform'],\n",
    "                         'tau_reio':     [0.01, 0.26,   'uniform'],\n",
    "                         'n_s':          [0.86, 1.07,   'uniform'],\n",
    "                         'ln10A_s': [2.83,  3.4,  'uniform'],\n",
    "                          #'log10ma': [2.9, 3.1, 'uniform'], #10^32ma(ma in unit of eV)\n",
    "                          #'omega_ax': [1e-32, 0.01,  'uniform'],\n",
    "                         'A_planck':     [1.0,   0.0025,  'gaussian'],\n",
    "                         }\n",
    "fixed = {'log10ma': 2.0, 'omega_ax': 9.794086321726434e-10}'''\n",
    "#fixed = {'log10ma': 2.0}\n",
    "# instantiation\n",
    "tf_planck_ax = tf_planck2018_lite(parameters=parameters_and_priors_ax, \n",
    "                                  fix_parameters = fixed,\n",
    "                                  tf_planck2018_lite_path=tf_planck2018_lite_path,\n",
    "                                  ee_emu_model=ee_emu_model_ax,\n",
    "                                  tt_emu_model=tt_emu_model_ax,\n",
    "                                  te_emu_model=te_emu_model_ax,\n",
    "                                  use_low_ell_bins=False)\n",
    "# tf_planck_2e4 = tf_planck2018_lite(parameters=parameters_and_priors_ax, \n",
    "#                                   fix_parameters = dict(),\n",
    "#                                   tf_planck2018_lite_path=tf_planck2018_lite_path,\n",
    "#                                   ee_emu_model=ee_emu_model_2e4,\n",
    "#                                   tt_emu_model=tt_emu_model_2e4,\n",
    "#                                   te_emu_model=te_emu_model_2e4)"
   ]
  },
  {
   "cell_type": "code",
   "execution_count": null,
   "metadata": {
    "id": "gyjdREDUaL0p"
   },
   "outputs": [],
   "source": [
    "##LCDM\n",
    "FIDUCIAL = np.reshape(np.array([ 0.022242,  0.1197,  0.673,  0.1,  0.9658,  3.0753,  1.0080]).astype('float32'), (1, 7))\n",
    "EPSILON  = np.reshape(np.array([ 1E-4,      1E-4,     1E-2,   1E-3,   1E-3,    1E-3,  1E-4]).astype('float32'), (1,7))\n",
    "# EPSILON  = np.reshape(np.array([ 1E-4,      1E-4,     1E-2,   1E-3,   1E-3,    1E-3,    1E-4]).astype('float32'), (1,7))"
   ]
  },
  {
   "cell_type": "code",
   "execution_count": null,
   "metadata": {
    "id": "rVz3NEEqdewC"
   },
   "outputs": [],
   "source": [
    "##All axion masses\n",
    "# path to the tf_planck2018_lite likelihood\n",
    "from axionEmu.tf_planck2018_lite_mod import tf_planck2018_lite\n",
    "tf_planck2018_lite_path = '/content/axionEmu/cosmopower/likelihoods/tf_planck2018_lite/'\n",
    "\n",
    "# parameters of the analysis, and their priors\n",
    "parameters_and_priors_ax = {'omega_b':      [0.0174, 0.0274, 'uniform'],\n",
    "                         'omega_lamda':    [0.16, 0.36, 'uniform'],\n",
    "                         'h':            [0.55, 0.82,   'uniform'],\n",
    "                         'tau_reio':     [0.01, 0.26,   'uniform'],\n",
    "                         'n_s':          [0.86, 1.07,   'uniform'],\n",
    "                         'ln10A_s': [2.83,  3.4,  'uniform'],\n",
    "                          'log10ma': [3.999, 4.001, 'uniform'], #10^32ma(ma in unit of eV)\n",
    "                          'omega_ax': [1e-32, 0.01,  'uniform'],\n",
    "                         'A_planck':     [1.0,   0.0025,  'gaussian'],\n",
    "                         }\n",
    "# fixed_1 = {'log10ma': 3.0, 'omega_ax': 9.794086321726434e-10}\n",
    "#fixed = {'log10ma': 4.0}\n",
    "fixed={}\n",
    "# instantiation\n",
    "tf_planck_ax = tf_planck2018_lite(parameters=parameters_and_priors_ax, \n",
    "                                  fix_parameters = fixed,\n",
    "                                  tf_planck2018_lite_path=tf_planck2018_lite_path,\n",
    "                                  ee_emu_model=ee_emu_model_ax,\n",
    "                                  tt_emu_model=tt_emu_model_ax,\n",
    "                                  te_emu_model=te_emu_model_ax)\n",
    "# tf_planck_2e4 = tf_planck2018_lite(parameters=parameters_and_priors_ax, \n",
    "#                                   fix_parameters = dict(),\n",
    "#                                   tf_planck2018_lite_path=tf_planck2018_lite_path,\n",
    "#                                   ee_emu_model=ee_emu_model_2e4,\n",
    "#                                   tt_emu_model=tt_emu_model_2e4,\n",
    "#                                   te_emu_model=te_emu_model_2e4)"
   ]
  },
  {
   "cell_type": "code",
   "execution_count": null,
   "metadata": {
    "id": "bfCg_AMjeC2I"
   },
   "outputs": [],
   "source": [
    "##All axion masses\n",
    "FIDUCIAL = np.reshape(np.array([ 0.022242,  0.3107,  0.673,  0.1,  0.9658,  3.0753, 4., 0.005, 1.0080]).astype('float32'), (1, 9))\n",
    "EPSILON  = np.reshape(np.array([ 1E-4,      1E-3,     1E-2,   1E-3,   1E-3,    1E-3, 1E-10,  1E-3, 1E-4]).astype('float32'), (1,9))\n",
    "# EPSILON  = np.reshape(np.array([ 1E-4,      1E-4,     1E-2,   1E-3,   1E-3,    1E-3,    1E-4]).astype('float32'), (1,7))"
   ]
  },
  {
   "cell_type": "code",
   "execution_count": null,
   "metadata": {
    "id": "XijT_ysvfozI"
   },
   "outputs": [],
   "source": [
    "#Combined ACT DR6 and Planck TTTEEE likelihood\n",
    "#@tf.function\n",
    "def log_prob_ax_combined(theta):\n",
    "    return tf.squeeze(tf_planck_ax.posterior(theta), -1) + log_prob_ax(theta)\n"
   ]
  },
  {
   "cell_type": "code",
   "execution_count": null,
   "metadata": {
    "id": "XijT_ysvfozI"
   },
   "outputs": [],
   "source": [
    "#Combined ACT DR4 and WMAP TTTEEE likelihood\n",
    "#@tf.function\n",
    "def log_prob_ax_combined(theta):\n",
    "    return log_prob_ax_ACT_DR4(theta) + log_prob_ax(theta)\n"
   ]
  },
  {
   "cell_type": "code",
   "execution_count": null,
   "metadata": {
    "id": "Kpd1Ex3wfqw9"
   },
   "outputs": [],
   "source": [
    "# number of parameters\n",
    "n_params_ax = len(parameters_and_priors_ax)\n",
    "\n",
    "# number of walkers (note you'll end up with a total of 2*n_walkers for this parallel variant of the affine sampler)\n",
    "n_walkers = 20\n",
    "\n",
    "# initialize walkers and current state\n",
    "walkers1_ax = tf.random.normal([n_walkers, n_params_ax], FIDUCIAL, EPSILON)\n",
    "walkers2_ax = tf.random.normal([n_walkers, n_params_ax], FIDUCIAL, EPSILON)\n",
    "current_state_ax = [walkers1_ax, walkers2_ax]"
   ]
  },
  {
   "cell_type": "code",
   "execution_count": null,
   "metadata": {
    "colab": {
     "base_uri": "https://localhost:8080/"
    },
    "id": "pcR5iQEgJKBq",
    "outputId": "9e0d9282-11f1-4c01-f3ae-8909304727c9"
   },
   "outputs": [],
   "source": [
    "!pip install -U emcee"
   ]
  },
  {
   "cell_type": "code",
   "execution_count": null,
   "metadata": {
    "colab": {
     "base_uri": "https://localhost:8080/"
    },
    "id": "88YH5x5Ift2y",
    "outputId": "56983d46-63d1-4475-c2e7-d49ba22cb22b",
    "scrolled": false
   },
   "outputs": [],
   "source": [
    "# number of MCMC steps to take (you'll end up with an MCMC chain with shape (n_steps, 2*n_walkers, n_parameters))\n",
    "n_steps = 5000\n",
    "\n",
    "# run the sampler\n",
    "with tf.device(device):\n",
    "    chain_ax = affine.affine_sample(log_prob_ax_combined, n_steps, current_state_ax, args=[])"
   ]
  },
  {
   "cell_type": "code",
   "execution_count": null,
   "metadata": {},
   "outputs": [],
   "source": [
    "print(chain_ax.shape)\n",
    "np.save('ACT_DR4_WMAP_AxionEmu_m25_chain_20_5000_orig_emu.npy', chain_ax.numpy())\n"
   ]
  },
  {
   "cell_type": "code",
   "execution_count": null,
   "metadata": {},
   "outputs": [],
   "source": [
    "chain2 = np.load('/home/keir/Software/axionEmu/ACT_DR4_AxionEmu_m25_chain_100_20000_orig_emu.npy')\n"
   ]
  },
  {
   "cell_type": "code",
   "execution_count": null,
   "metadata": {},
   "outputs": [],
   "source": [
    "chain4 = np.load('/home/keir/Software/axionEmu/chain_ACT_LCDM.npy')\n"
   ]
  },
  {
   "cell_type": "code",
   "execution_count": null,
   "metadata": {
    "id": "ASbOjgqzf60k"
   },
   "outputs": [],
   "source": [
    "burnin_steps = 100\n",
    "#samples_ax = chain_ax.numpy()[burnin_steps:,:,:].reshape((-1, 7)) #.numpy() #n_params_ax\n",
    "samples2 = chain2[burnin_steps:,:,:].reshape((-1, 8))\n"
   ]
  },
  {
   "cell_type": "code",
   "execution_count": null,
   "metadata": {
    "colab": {
     "base_uri": "https://localhost:8080/"
    },
    "id": "Q4pi3z4ym7Nm",
    "outputId": "ef389403-79dd-46f4-ea2c-cd1b95384383"
   },
   "outputs": [],
   "source": [
    "print(samples2.shape)"
   ]
  },
  {
   "cell_type": "code",
   "execution_count": null,
   "metadata": {
    "colab": {
     "base_uri": "https://localhost:8080/"
    },
    "id": "5NdmyyDePSW-",
    "outputId": "63f8dc71-0bd9-4ddb-f8eb-cbacf764be4d"
   },
   "outputs": [],
   "source": [
    "np.linspace(100, 15500, 155)"
   ]
  },
  {
   "cell_type": "code",
   "execution_count": null,
   "metadata": {
    "id": "rJxK07WPIxtV"
   },
   "outputs": [],
   "source": [
    "import emcee\n",
    "auto = []\n",
    "for i in np.linspace(100, 15500, 155):\n",
    "  auto_time = np.mean(emcee.autocorr.integrated_time(chain_ax.numpy()[:int(i)], tol=0))\n",
    "  auto.append(auto_time)"
   ]
  },
  {
   "cell_type": "code",
   "execution_count": null,
   "metadata": {
    "colab": {
     "base_uri": "https://localhost:8080/",
     "height": 297
    },
    "id": "dvISruiPJdcq",
    "outputId": "0a624fcb-891e-45ff-9322-aa7baa20daab"
   },
   "outputs": [],
   "source": [
    "import matplotlib.pyplot as plt\n",
    "n = np.linspace(100, 15500, 155)\n",
    "y = auto\n",
    "plt.plot(n, n / 50.0, \"--k\")\n",
    "plt.plot(n, y)\n",
    "# plt.xlim(0, n.max())\n",
    "# plt.ylim(0, y.max() + 0.1 * (y.max() - y.min()))\n",
    "plt.xlabel(\"number of steps\")\n",
    "plt.ylabel(r\"mean $\\hat{\\tau}$\")"
   ]
  },
  {
   "cell_type": "code",
   "execution_count": null,
   "metadata": {
    "colab": {
     "base_uri": "https://localhost:8080/"
    },
    "id": "d7Wjk_iCf9e_",
    "outputId": "014aef09-b61f-4e0b-fd47-496854f813fd"
   },
   "outputs": [],
   "source": [
    "!pip install getdist"
   ]
  },
  {
   "cell_type": "code",
   "execution_count": 19,
   "metadata": {
    "id": "jkkSjBZVvD2q"
   },
   "outputs": [],
   "source": [
    "##m = 1e-25 axion\n",
    "import pickle\n",
    "# f = open(\"/content/drive/MyDrive/2e5_emulator_models/test_2e5_0_likelihood_ax_7.pkl\",'rb')\n",
    "#f = open(\"/content/drive/MyDrive/5e5_emulator_models/test_5e5_lamda_likelihood_ax_7.pkl\",'rb')\n",
    "f = open('/home/keir/Software/axionEmu/axionCAMB_EMCEE/Lyaf_eBOSS_Planck_axionCAMB_5_LCDM.pkl', 'rb')\n",
    "#f = open('/home/keir/Software/axionEmu/axionCAMB_EMCEE/ACT_DR4_axionCAMB_8500.pkl', 'rb')\n",
    "samples_unflat = pickle.load(f)\n",
    "samples_test = pickle.load(f)\n",
    "diff = pickle.load(f)\n",
    "\n",
    "#Load sigma8\n",
    "sigma8_unflat = pickle.load(f)\n",
    "sigma8_flat = pickle.load(f)\n",
    "\n",
    "# sampler1 = pickle.load(f)\n",
    "f.close()\n"
   ]
  },
  {
   "cell_type": "code",
   "execution_count": 20,
   "metadata": {},
   "outputs": [
    {
     "name": "stdout",
     "output_type": "stream",
     "text": [
      "(5, 120, 7)\n",
      "(600, 7)\n",
      "160.95805287361145\n"
     ]
    }
   ],
   "source": [
    "print(samples_unflat.shape)\n",
    "print(samples_test.shape)\n",
    "print(diff)\n"
   ]
  },
  {
   "cell_type": "code",
   "execution_count": 21,
   "metadata": {},
   "outputs": [
    {
     "name": "stdout",
     "output_type": "stream",
     "text": [
      "[nan nan nan nan nan nan nan nan nan nan nan nan nan nan nan nan nan nan\n",
      " nan nan nan nan nan nan nan nan nan nan nan nan nan nan nan nan nan nan\n",
      " nan nan nan nan nan nan nan nan nan nan nan nan nan nan nan nan nan nan\n",
      " nan nan nan nan nan nan nan nan nan nan nan nan nan nan nan nan nan nan\n",
      " nan nan nan nan nan nan nan nan nan nan nan nan nan nan nan nan nan nan\n",
      " nan nan nan nan nan nan nan nan nan nan nan nan nan nan nan nan nan nan\n",
      " nan nan nan nan nan nan nan nan nan nan nan nan nan nan nan nan nan nan\n",
      " nan nan nan nan nan nan nan nan nan nan nan nan nan nan nan nan nan nan\n",
      " nan nan nan nan nan nan nan nan nan nan nan nan nan nan nan nan nan nan\n",
      " nan nan nan nan nan nan nan nan nan nan nan nan nan nan nan nan nan nan\n",
      " nan nan nan nan nan nan nan nan nan nan nan nan nan nan nan nan nan nan\n",
      " nan nan nan nan nan nan nan nan nan nan nan nan nan nan nan nan nan nan\n",
      " nan nan nan nan nan nan nan nan nan nan nan nan nan nan nan nan nan nan\n",
      " nan nan nan nan nan nan nan nan nan nan nan nan nan nan nan nan nan nan\n",
      " nan nan nan nan nan nan nan nan nan nan nan nan nan nan nan nan nan nan\n",
      " nan nan nan nan nan nan nan nan nan nan nan nan nan nan nan nan nan nan\n",
      " nan nan nan nan nan nan nan nan nan nan nan nan nan nan nan nan nan nan\n",
      " nan nan nan nan nan nan nan nan nan nan nan nan nan nan nan nan nan nan\n",
      " nan nan nan nan nan nan nan nan nan nan nan nan nan nan nan nan nan nan\n",
      " nan nan nan nan nan nan nan nan nan nan nan nan nan nan nan nan nan nan\n",
      " nan nan nan nan nan nan nan nan nan nan nan nan nan nan nan nan nan nan\n",
      " nan nan nan nan nan nan nan nan nan nan nan nan nan nan nan nan nan nan\n",
      " nan nan nan nan nan nan nan nan nan nan nan nan nan nan nan nan nan nan\n",
      " nan nan nan nan nan nan nan nan nan nan nan nan nan nan nan nan nan nan\n",
      " nan nan nan nan nan nan nan nan nan nan nan nan nan nan nan nan nan nan\n",
      " nan nan nan nan nan nan nan nan nan nan nan nan nan nan nan nan nan nan\n",
      " nan nan nan nan nan nan nan nan nan nan nan nan nan nan nan nan nan nan\n",
      " nan nan nan nan nan nan nan nan nan nan nan nan nan nan nan nan nan nan\n",
      " nan nan nan nan nan nan nan nan nan nan nan nan nan nan nan nan nan nan\n",
      " nan nan nan nan nan nan nan nan nan nan nan nan nan nan nan nan nan nan\n",
      " nan nan nan nan nan nan nan nan nan nan nan nan nan nan nan nan nan nan\n",
      " nan nan nan nan nan nan nan nan nan nan nan nan nan nan nan nan nan nan\n",
      " nan nan nan nan nan nan nan nan nan nan nan nan nan nan nan nan nan nan\n",
      " nan nan nan nan nan nan]\n"
     ]
    }
   ],
   "source": [
    "print(sigma8_flat)\n"
   ]
  },
  {
   "cell_type": "code",
   "execution_count": null,
   "metadata": {
    "id": "oUY09Obk_VuW"
   },
   "outputs": [],
   "source": [
    "##m = 1e-28 axion\n",
    "import pickle\n",
    "# f = open(\"/content/drive/MyDrive/2e5_emulator_models/test_2e5_0_likelihood_ax_7.pkl\",'rb')\n",
    "f = open(\"/content/drive/MyDrive/5e5_emulator_models/test_5e5_lamda_likelihood_ax_4.pkl\",'rb')\n",
    "samples_unflat2 = pickle.load(f)\n",
    "samples_test2 = pickle.load(f)\n",
    "diff2 = pickle.load(f)\n",
    "# sampler1 = pickle.load(f)\n",
    "f.close()"
   ]
  },
  {
   "cell_type": "code",
   "execution_count": null,
   "metadata": {
    "id": "3-zJbfdfK-8d"
   },
   "outputs": [],
   "source": [
    "##m = 1e-30 axion\n",
    "import pickle\n",
    "# f = open(\"/content/drive/MyDrive/2e5_emulator_models/test_2e5_0_likelihood_ax_7.pkl\",'rb')\n",
    "f = open(\"/content/drive/MyDrive/5e5_emulator_models/test_5e5_lamda_likelihood_ax_2.pkl\",'rb')\n",
    "samples_unflat2 = pickle.load(f)\n",
    "samples_test2 = pickle.load(f)\n",
    "diff2 = pickle.load(f)\n",
    "# sampler1 = pickle.load(f)\n",
    "f.close()"
   ]
  },
  {
   "cell_type": "code",
   "execution_count": null,
   "metadata": {
    "id": "6Quk5F8oglRn"
   },
   "outputs": [],
   "source": [
    "samples_test = samples_unflat2[100:, :, :].reshape((-1, 8))"
   ]
  },
  {
   "cell_type": "code",
   "execution_count": null,
   "metadata": {
    "colab": {
     "base_uri": "https://localhost:8080/"
    },
    "id": "GR0FDUHgH3xB",
    "outputId": "f1729c4c-d063-4cf7-d813-320e68811b03"
   },
   "outputs": [],
   "source": [
    "samples_test.shape"
   ]
  },
  {
   "cell_type": "code",
   "execution_count": null,
   "metadata": {
    "colab": {
     "base_uri": "https://localhost:8080/"
    },
    "id": "uz1WmUD0TFLY",
    "outputId": "d52bd544-f8aa-49ae-dd13-188db6f85c4f"
   },
   "outputs": [],
   "source": [
    "diff2"
   ]
  },
  {
   "cell_type": "code",
   "execution_count": null,
   "metadata": {
    "colab": {
     "base_uri": "https://localhost:8080/"
    },
    "id": "aAJZXJ9WGnOG",
    "outputId": "56c5c0ba-05aa-40cd-9d2f-9118279bd04b"
   },
   "outputs": [],
   "source": [
    "#Testing samples from axionEmu\n",
    "print(np.max(samples_ax[:10000, 0]))"
   ]
  },
  {
   "cell_type": "code",
   "execution_count": null,
   "metadata": {
    "colab": {
     "base_uri": "https://localhost:8080/",
     "height": 307
    },
    "id": "h1Zh0bH_ITJ3",
    "outputId": "c24834a4-3951-4304-e903-a58b888ab174"
   },
   "outputs": [],
   "source": [
    "plt.plot(samples_ax[:, -1])"
   ]
  },
  {
   "cell_type": "code",
   "execution_count": null,
   "metadata": {
    "colab": {
     "base_uri": "https://localhost:8080/"
    },
    "id": "JcutOHAKgfwR",
    "outputId": "e9797fe2-6979-486c-abb5-cda984baf555"
   },
   "outputs": [],
   "source": [
    "##m = 1e-28 axion\n",
    "# axionCAMB + EMCEE\n",
    "from getdist import plots, MCSamples\n",
    "names = [r\"\\omega_{\\mathrm{b}}\", \n",
    "         r\"\\omega_{\\mathrm{lamda}}\", \n",
    "         r\"h\", \n",
    "         r\"\\tau\",\n",
    "         r\"n_s\", \n",
    "         r\"ln 10^{10} A_s\",\n",
    "         #r\"log 10^{32} ma\",\n",
    "         r\"\\omega_{\\mathrm{ax}}\",\n",
    "         r\"A_{planck}\"]\n",
    "labels = names\n",
    "mcsamples = MCSamples(samples=samples_test, names = names, labels = labels)\n",
    "mcsamples_ax = MCSamples(samples=samples_ax,names = names, labels = labels)\n",
    "g = plots.get_subplot_plotter()\n",
    "g.settings.axes_fontsize = 18\n",
    "g.settings.lab_fontsize = 30\n",
    "g.settings.legend_fontsize = 25"
   ]
  },
  {
   "cell_type": "code",
   "execution_count": null,
   "metadata": {
    "colab": {
     "base_uri": "https://localhost:8080/",
     "height": 1000
    },
    "id": "7rBeiPAdlch5",
    "outputId": "0040d86d-291f-4737-e0fb-d74b149a3c46"
   },
   "outputs": [],
   "source": [
    "##m = 1e-28 axion\n",
    "#g.triangle_plot([mcsamples, mcsamples_ax], filled=True, legend_labels=['axionCAMB+EMCEE','4e5 emulator+GPU sampler (ma=1e-28)'])\n",
    "g.triangle_plot([mcsamples], filled=True, legend_labels=['axionCAMB+EMCEE'])"
   ]
  },
  {
   "cell_type": "code",
   "execution_count": null,
   "metadata": {
    "id": "pPChCwx3S80A"
   },
   "outputs": [],
   "source": [
    "##m = 1e-28 axion\n",
    "g.export('ma=1e-28_lamda.png')"
   ]
  },
  {
   "cell_type": "code",
   "execution_count": null,
   "metadata": {
    "colab": {
     "base_uri": "https://localhost:8080/",
     "height": 1000
    },
    "id": "NCRs23v5QxE6",
    "outputId": "40eeeff4-57cf-4f7a-9569-16b5ff1cf3ff"
   },
   "outputs": [],
   "source": [
    "##m = 1e-28 axion\n",
    "g.triangle_plot([mcsamples, mcsamples_ax], filled=False, legend_labels=['axionCAMB+EMCEE','4e5 emulator+GPU sampler (ma=1e-28)'])"
   ]
  },
  {
   "cell_type": "code",
   "execution_count": null,
   "metadata": {
    "colab": {
     "base_uri": "https://localhost:8080/"
    },
    "id": "UTQHA5saxYE4",
    "outputId": "ef9a0625-7f7c-4da2-e0a3-4e779756421d"
   },
   "outputs": [],
   "source": [
    "##m = 1e-25 axion\n",
    "from getdist import plots, MCSamples\n",
    "names = [r\"\\omega_{\\mathrm{b}}\", \n",
    "         r\"\\omega_{\\mathrm{cdm}}\", \n",
    "         r\"h\", \n",
    "         r\"\\tau\",\n",
    "         r\"n_s\", \n",
    "         r\"ln 10^{10} A_s\",\n",
    "         #r\"log 10^{32} ma\",\n",
    "         r\"\\omega_{\\mathrm{ax}}\",\n",
    "         r\"y_p\"] #A_{planck}\"]\n",
    "labels = names\n",
    "# mcsamples = MCSamples(samples=samples_test, names = names, labels = labels)\n",
    "mcsamples_ax = MCSamples(samples=samples_ax,names = names, labels = labels)\n",
    "g = plots.get_subplot_plotter()\n",
    "g.settings.axes_fontsize = 18\n",
    "g.settings.lab_fontsize = 30\n",
    "g.settings.legend_fontsize = 25"
   ]
  },
  {
   "cell_type": "code",
   "execution_count": null,
   "metadata": {
    "colab": {
     "base_uri": "https://localhost:8080/",
     "height": 1000
    },
    "id": "cqwjyTwKT2vn",
    "outputId": "ecc99bb3-bef4-4e26-c568-71bfa521951f"
   },
   "outputs": [],
   "source": [
    "##m = 1e-25 axion\n",
    "g.triangle_plot([mcsamples_ax], filled=True, legend_labels=['4e5 emulator+GPU sampler (ACT DR4; ma=1e-25)'])\n"
   ]
  },
  {
   "cell_type": "code",
   "execution_count": null,
   "metadata": {
    "colab": {
     "base_uri": "https://localhost:8080/"
    },
    "id": "dFvSXB7vT6Bf",
    "outputId": "793022c9-9241-404e-e5c4-6342ebf501f2"
   },
   "outputs": [],
   "source": [
    "##m = 1e-25 axion\n",
    "# axionCAMB + EMCEE\n",
    "from getdist import plots, MCSamples\n",
    "names = [r\"\\omega_{\\mathrm{b}}\", \n",
    "         r\"\\omega_{\\mathrm{cdm}}\", \n",
    "         r\"h\", \n",
    "         r\"\\tau\",\n",
    "         r\"n_s\", \n",
    "         r\"ln 10^{10} A_s\",\n",
    "         #r\"log 10^{32} ma\",\n",
    "         r\"\\omega_{\\mathrm{ax}}\",\n",
    "         r\"A_{planck}\"]\n",
    "labels = names\n",
    "mcsamples = MCSamples(samples=samples_test, names = names, labels = labels)\n",
    "mcsamples_ax = MCSamples(samples=samples_ax,names = names, labels = labels)\n",
    "g = plots.get_subplot_plotter()\n",
    "g.settings.axes_fontsize = 18\n",
    "g.settings.lab_fontsize = 30\n",
    "g.settings.legend_fontsize = 25"
   ]
  },
  {
   "cell_type": "code",
   "execution_count": null,
   "metadata": {
    "colab": {
     "base_uri": "https://localhost:8080/",
     "height": 1000
    },
    "id": "sMUnTb0xWoPY",
    "outputId": "50f971cb-72b9-4471-a930-1192538810bd"
   },
   "outputs": [],
   "source": [
    "##m = 1e-25 axion\n",
    "g.triangle_plot([mcsamples, mcsamples_ax], filled=False, legend_labels=['axionCAMB+EMCEE','4e5 emulator+GPU sampler (ma=1e-25)'])"
   ]
  },
  {
   "cell_type": "code",
   "execution_count": null,
   "metadata": {
    "id": "Uw78GqzaWq2A"
   },
   "outputs": [],
   "source": [
    "##m = 1e-25 axion\n",
    "g.export('new.png')"
   ]
  },
  {
   "cell_type": "code",
   "execution_count": null,
   "metadata": {},
   "outputs": [],
   "source": [
    "#Load official WMAP chains\n",
    "samples_WMAP = np.zeros((1296570, 6))\n",
    "for i, fname in enumerate(['omegabh2', 'omegach2', 'H0', 'tau', 'ns002', 'a002']):\n",
    "    samples_WMAP[:, i] = np.loadtxt('/home/keir/Data/' + fname, usecols=1)\n",
    "    if fname == 'H0':\n",
    "        samples_WMAP[:, i] /= 100.\n",
    "    elif fname == 'a002':\n",
    "        samples_WMAP[:, i] = np.log(samples_WMAP[:, i] * 10.)\n",
    "weights = np.loadtxt('/home/keir/Data/weight', usecols=1)\n"
   ]
  },
  {
   "cell_type": "code",
   "execution_count": null,
   "metadata": {},
   "outputs": [],
   "source": [
    "#Load official ACT DR6 chains\n",
    "#samples_ACT_DR6 = \n",
    "#for i in range(8):\n"
   ]
  },
  {
   "cell_type": "code",
   "execution_count": 13,
   "metadata": {
    "colab": {
     "base_uri": "https://localhost:8080/"
    },
    "id": "A6p5yvBvbrLV",
    "outputId": "e55a4e81-c5c3-4219-928e-292d3e24bf42"
   },
   "outputs": [],
   "source": [
    "##LCDM\n",
    "from getdist import plots, MCSamples\n",
    "names = np.array([r\"\\omega_{\\mathrm{b}}\", \n",
    "         r\"\\omega_{\\mathrm{cdm}}\", \n",
    "         r\"h\", \n",
    "         r\"\\tau\",\n",
    "         r\"n_s\", \n",
    "         r\"ln 10^{10} A_s\",\n",
    "         r\"logma\",\n",
    "         r\"\\omega_{\\mathrm{ax}}\",\n",
    "         r\"A_{planck}\"])\n",
    "#         r\"y_p\"]) #,\n",
    "#         r\"A_{planck}\"])\n",
    "#r\"log 10^{32} ma\",\n",
    "#r\"\\omega_{\\mathrm{ax}}\",\n",
    "#r\"A_{planck}\"]\n",
    "labels = names\n",
    "mcsamples2 = MCSamples(samples=samples_test2, names = names, labels = labels)\n",
    "#mcsamples_ax = MCSamples(samples=samples_ax,names = names, labels = labels)\n",
    "#samples4[:, -1] = samples4[:, -1] ** 2.\n",
    "#mcsamples3 = MCSamples(samples=samples3,names = names, labels = labels) #, weights=weights)\n",
    "mcsamples = MCSamples(samples=samples_test,names = names[np.array([6, 7])], labels = labels[np.array([6, 7])]) #, weights=weights)\n",
    "#mcsamples4 = MCSamples(samples=samples4,names = names[np.array([0, 1, 2, 3, 4, 5, 7])], labels = labels[np.array([0, 1, 2, 3, 4, 5, 7])])\n",
    "g = plots.get_subplot_plotter()\n",
    "g.settings.axes_fontsize = 18\n",
    "g.settings.lab_fontsize = 30\n",
    "g.settings.legend_fontsize = 25\n"
   ]
  },
  {
   "cell_type": "code",
   "execution_count": null,
   "metadata": {
    "colab": {
     "base_uri": "https://localhost:8080/"
    },
    "id": "A6p5yvBvbrLV",
    "outputId": "e55a4e81-c5c3-4219-928e-292d3e24bf42"
   },
   "outputs": [],
   "source": [
    "##Lyaf\n",
    "from getdist import plots, MCSamples\n",
    "names = np.array([r\"log ma\",\n",
    "         r\"\\omega_{\\mathrm{ax}}\"]) #,\n",
    "#         r\"A_{planck}\"])\n",
    "#r\"log 10^{32} ma\",\n",
    "#r\"\\omega_{\\mathrm{ax}}\",\n",
    "#r\"A_{planck}\"]\n",
    "labels = names\n",
    "mcsamples = MCSamples(samples=samples_test, names = names, labels = labels)\n",
    "#mcsamples_ax = MCSamples(samples=samples_ax,names = names, labels = labels)\n",
    "#samples4[:, -1] = samples4[:, -1] ** 2.\n",
    "#mcsamples3 = MCSamples(samples=samples3,names = names, labels = labels) #, weights=weights)\n",
    "#mcsamples2 = MCSamples(samples=samples2,names = names, labels = labels) #, weights=weights)\n",
    "#mcsamples4 = MCSamples(samples=samples4,names = names[np.array([0, 1, 2, 3, 4, 5, 7])], labels = labels[np.array([0, 1, 2, 3, 4, 5, 7])])\n",
    "g = plots.get_subplot_plotter()\n",
    "g.settings.axes_fontsize = 18\n",
    "g.settings.lab_fontsize = 30\n",
    "g.settings.legend_fontsize = 25"
   ]
  },
  {
   "cell_type": "code",
   "execution_count": 16,
   "metadata": {
    "colab": {
     "base_uri": "https://localhost:8080/",
     "height": 1000
    },
    "id": "BYlxCuWlb0ZK",
    "outputId": "3bf774cd-3607-4b20-ad0d-721f2f099898",
    "scrolled": false
   },
   "outputs": [
    {
     "name": "stderr",
     "output_type": "stream",
     "text": [
      "WARNING:root:fine_bins not large enough to well sample smoothing scale - \\omega_{\\mathrm{b}}\n",
      "WARNING:root:auto bandwidth for h very small or failed (h=0.0005267735247153306,N_eff=60000.0). Using fallback (h=0.008317431667462847)\n",
      "WARNING:root:auto bandwidth for n_s very small or failed (h=0.0005593597728177798,N_eff=60000.0). Using fallback (h=0.008621380660015833)\n",
      "WARNING:root:auto bandwidth for A_{planck} very small or failed (h=0.0006113214927912128,N_eff=60000.0). Using fallback (h=0.011766904171068893)\n",
      "WARNING:root:fine_bins_2D not large enough for optimal density: \\omega_{\\mathrm{b}}, n_s\n",
      "WARNING:root:fine_bins_2D not large enough for optimal density: \\omega_{\\mathrm{b}}, logma\n",
      "WARNING:root:fine_bins_2D not large enough for optimal density: \\omega_{\\mathrm{b}}, A_{planck}\n",
      "WARNING:root:fine_bins_2D not large enough for optimal density: h, n_s\n",
      "WARNING:root:fine_bins_2D not large enough for optimal density: h, A_{planck}\n",
      "WARNING:root:fine_bins_2D not large enough for optimal density: n_s, A_{planck}\n",
      "WARNING:root:fine_bins_2D not large enough for optimal density: ln, logma\n",
      "WARNING:root:fine_bins_2D not large enough for optimal density: ln, A_{planck}\n"
     ]
    },
    {
     "data": {
      "image/png": "[encoded data removed]",
      "text/plain": [
       "<Figure size 1296x1296 with 45 Axes>"
      ]
     },
     "metadata": {
      "needs_background": "light"
     },
     "output_type": "display_data"
    }
   ],
   "source": [
    "##LCDM\n",
    "g.triangle_plot([mcsamples2, mcsamples], filled=True, legend_labels=['eBOSS Lyaf + Planck CMB', 'eBOSS Lyaf [fix LCDM parameters]'])\n",
    "#'AxionEmu+GPU sampler (ACT DR4 + WMAP TTTE; tau prior; m = 25)',])\n"
   ]
  },
  {
   "cell_type": "code",
   "execution_count": null,
   "metadata": {},
   "outputs": [],
   "source": [
    "#Save MCMC samples\n",
    "np.save('ACT_DR4_AxionEmu_m25_chain_100_20000_orig_emu.npy', chain_ax.numpy())\n"
   ]
  },
  {
   "cell_type": "code",
   "execution_count": null,
   "metadata": {},
   "outputs": [],
   "source": [
    "#Load MCMC samples\n",
    "chain_ax2 = np.load('ACT_DR6_Planck_TTTEEE_AxionEmu_LCDM_chain.npy')\n",
    "burnin_steps2 = 200\n",
    "samples_ax2 = chain_ax2[burnin_steps2:,:,:].reshape((-1, n_params_ax))\n"
   ]
  },
  {
   "cell_type": "code",
   "execution_count": null,
   "metadata": {
    "colab": {
     "base_uri": "https://localhost:8080/"
    },
    "id": "OgFqUdOLepkG",
    "outputId": "28c478a4-fe54-4698-a30e-4a86fd061686"
   },
   "outputs": [],
   "source": [
    "##All axion masses\n",
    "from getdist import plots, MCSamples\n",
    "names = [r\"\\omega_{\\mathrm{b}}\", \n",
    "         r\"\\omega_{\\mathrm{cdm}}\", \n",
    "         r\"h\", \n",
    "         r\"\\tau\",\n",
    "         r\"n_s\", \n",
    "         r\"ln 10^{10} A_s\",\n",
    "         r\"log 10^{32} ma\",\n",
    "         r\"\\omega_{\\mathrm{ax}}\",\n",
    "         r\"A_{planck}\"]\n",
    "labels = names\n",
    "# mcsamples = MCSamples(samples=samples_test, names = names, labels = labels)\n",
    "mcsamples_ax = MCSamples(samples=samples_ax,names = names, labels = labels)\n",
    "g = plots.get_subplot_plotter()\n",
    "g.settings.axes_fontsize = 18\n",
    "g.settings.lab_fontsize = 30\n",
    "g.settings.legend_fontsize = 25"
   ]
  },
  {
   "cell_type": "code",
   "execution_count": null,
   "metadata": {
    "colab": {
     "base_uri": "https://localhost:8080/",
     "height": 1000
    },
    "id": "HQ-JsmxGe0MN",
    "outputId": "040c682b-fab1-4029-cf5f-40ef20a9e918"
   },
   "outputs": [],
   "source": [
    "##All axion masses\n",
    "g.triangle_plot([mcsamples_ax], filled=True, legend_labels=['4e5 emulator+GPU sampler (Vary axion mass)'])"
   ]
  },
  {
   "cell_type": "code",
   "execution_count": null,
   "metadata": {
    "colab": {
     "base_uri": "https://localhost:8080/"
    },
    "id": "rjBAqe2bLua1",
    "outputId": "06d3fcfb-97ff-4a90-9edf-94afa5118c23"
   },
   "outputs": [],
   "source": [
    "##m = 1e-30 axion\n",
    "from getdist import plots, MCSamples\n",
    "names = [r\"\\omega_{\\mathrm{b}}\", \n",
    "         r\"\\omega_{\\mathrm{Lambda}}\", \n",
    "         r\"h\", \n",
    "         r\"\\tau\",\n",
    "         r\"n_s\", \n",
    "         r\"ln 10^{10} A_s\",\n",
    "         #r\"log 10^{32} ma\",\n",
    "         r\"\\omega_{\\mathrm{ax}}\",\n",
    "         r\"A_{planck}\"]\n",
    "labels = names\n",
    "mcsamples = MCSamples(samples=samples_test, names = names, labels = labels)\n",
    "mcsamples_ax = MCSamples(samples=samples_ax,names = names, labels = labels)\n",
    "g = plots.get_subplot_plotter()\n",
    "g.settings.axes_fontsize = 18\n",
    "g.settings.lab_fontsize = 30\n",
    "g.settings.legend_fontsize = 25"
   ]
  },
  {
   "cell_type": "code",
   "execution_count": null,
   "metadata": {
    "colab": {
     "base_uri": "https://localhost:8080/",
     "height": 1000
    },
    "id": "NVP8BYAiL89r",
    "outputId": "614e2e9b-f5c6-4070-8a10-b60fcac7c61f"
   },
   "outputs": [],
   "source": [
    "##m = 1e-30 axion\n",
    "#g.triangle_plot([mcsamples, mcsamples_ax], filled=True, legend_labels=['axionCAMB+EMCEE','4e5 emulator+GPU sampler (ma=1e-28)'])\n",
    "g.triangle_plot([mcsamples], filled=True, legend_labels=['axionCAMB+EMCEE'])"
   ]
  },
  {
   "cell_type": "code",
   "execution_count": null,
   "metadata": {
    "colab": {
     "base_uri": "https://localhost:8080/",
     "height": 1000
    },
    "id": "zc3h_-vXMRBw",
    "outputId": "a9786767-74f1-443f-be70-1dc049c274a4"
   },
   "outputs": [],
   "source": [
    "##m = 1e-30 axion\n",
    "g.triangle_plot([mcsamples, mcsamples_ax], filled=False, legend_labels=['axionCAMB+EMCEE','4e5 emulator+GPU sampler (ma=1e-30)'])"
   ]
  },
  {
   "cell_type": "code",
   "execution_count": null,
   "metadata": {
    "id": "8Wm49w3UM7bS"
   },
   "outputs": [],
   "source": []
  }
 ],
 "metadata": {
  "accelerator": "GPU",
  "colab": {
   "include_colab_link": true,
   "machine_shape": "hm",
   "provenance": []
  },
  "gpuClass": "standard",
  "kernelspec": {
   "display_name": "Python 3",
   "language": "python",
   "name": "python3"
  },
  "language_info": {
   "codemirror_mode": {
    "name": "ipython",
    "version": 3
   },
   "file_extension": ".py",
   "mimetype": "text/x-python",
   "name": "python",
   "nbconvert_exporter": "python",
   "pygments_lexer": "ipython3",
   "version": "3.8.10"
  }
 },
 "nbformat": 4,
 "nbformat_minor": 1
}
