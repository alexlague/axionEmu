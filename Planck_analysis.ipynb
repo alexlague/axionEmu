{
 "cells": [
  {
   "cell_type": "markdown",
   "metadata": {
    "colab_type": "text",
    "id": "view-in-github"
   },
   "source": [
    "<a href=\"https://colab.research.google.com/github/keirkwame/axionEmu/blob/main/Open_access_version_of_4e5_Planck_2018_3x2pt_analysis_(ma%3D_29).ipynb\" target=\"_parent\"><img src=\"https://colab.research.google.com/assets/colab-badge.svg\" alt=\"Open In Colab\"/></a>"
   ]
  },
  {
   "cell_type": "code",
   "execution_count": null,
   "metadata": {
    "colab": {
     "base_uri": "https://localhost:8080/"
    },
    "id": "HfNUUPNseb_f",
    "outputId": "1ad5fa03-9043-4a0f-9402-d8713d8e388e"
   },
   "outputs": [],
   "source": [
    "import numpy as np\n",
    "import tensorflow as tf\n",
    "import matplotlib.pyplot as plt\n",
    "import scipy.stats as sps\n",
    "import getdist\n",
    "from tqdm import trange\n",
    "\n",
    "# checking that we are using a GPU\n",
    "device = 'gpu:0' if tf.test.is_gpu_available() else 'cpu'\n",
    "print('using', device, 'device \\n')\n"
   ]
  },
  {
   "cell_type": "code",
   "execution_count": null,
   "metadata": {
    "id": "RyFpnVJ4fNhp"
   },
   "outputs": [],
   "source": [
    "import affine"
   ]
  },
  {
   "cell_type": "code",
   "execution_count": null,
   "metadata": {
    "id": "cNBcHUEiTOrf"
   },
   "outputs": [],
   "source": [
    "from axionEmu.cosmopower.cosmopower_NN import cosmopower_NN"
   ]
  },
  {
   "cell_type": "code",
   "execution_count": null,
   "metadata": {
    "id": "xwHzqSWFTZbU"
   },
   "outputs": [],
   "source": [
    "from axionEmu.cosmopower.cosmopower_PCAplusNN import cosmopower_PCAplusNN"
   ]
  },
  {
   "cell_type": "code",
   "execution_count": null,
   "metadata": {
    "id": "l4K9fDm3fVH7"
   },
   "outputs": [],
   "source": [
    "##DM-like axions (m > 5.e-27 eV)\n",
    "\n",
    "tt_emu_model_ax = cosmopower_NN(restore=True,\n",
    "                                restore_filename='/home/keir/Software/axionEmu/axion_CMB_models/TT_cp_NN_5e5_DM_t2' #TT_lensed_NL_NN_axion'\n",
    "                               )\n",
    "\n",
    "te_emu_model_ax = cosmopower_PCAplusNN(restore=True,\n",
    "                                restore_filename='/home/keir/Software/axionEmu/axion_CMB_models/TE_cp_PCAplusNN_5e5_DM_t2' #TE_lensed_NL_NN_axion'\n",
    "                               )\n",
    "\n",
    "ee_emu_model_ax = cosmopower_NN(restore=True,\n",
    "                                restore_filename='/home/keir/Software/axionEmu/axion_CMB_models/EE_cp_NN_5e5_DM_t2' #EE_lensed_NL_NN_axion'\n",
    "                                )"
   ]
  },
  {
   "cell_type": "code",
   "execution_count": null,
   "metadata": {
    "colab": {
     "base_uri": "https://localhost:8080/"
    },
    "id": "H0b5WrwgN5NM",
    "outputId": "cec59bcc-b4b2-40e7-db56-7d443039fe3c"
   },
   "outputs": [],
   "source": [
    "##DE-like axions (m < 5.e-27 eV)\n",
    "\n",
    "tt_emu_model_ax = cosmopower_NN(restore=True,\n",
    "                                restore_filename='/home/keir/Software/axionEmu/axion_CMB_models/TT_cp_NN_5e5_DE_t2'\n",
    "                               )\n",
    "\n",
    "te_emu_model_ax = cosmopower_PCAplusNN(restore=True,\n",
    "                                restore_filename='/home/keir/Software/axionEmu/axion_CMB_models/TE_cp_PCAplusNN_5e5_DE_t2'\n",
    "                               )\n",
    "\n",
    "ee_emu_model_ax = cosmopower_NN(restore=True,\n",
    "                                restore_filename='/home/keir/Software/axionEmu/axion_CMB_models/EE_cp_NN_5e5_DE_t2'\n",
    "                                )"
   ]
  },
  {
   "cell_type": "code",
   "execution_count": null,
   "metadata": {
    "id": "EFW9yY8KfjvU"
   },
   "outputs": [],
   "source": [
    "##m = 1e-25 axion\n",
    "# path to the tf_planck2018_lite likelihood\n",
    "from axionEmu.tf_planck2018_lite_mod import tf_planck2018_lite\n",
    "tf_planck2018_lite_path = '/home/keir/Software/axionEmu/cosmopower/likelihoods/tf_planck2018_lite/'\n",
    "\n",
    "# parameters of the analysis, and their priors\n",
    "parameters_and_priors_ax = {'omega_b':      [0.0174, 0.0274, 'uniform'],\n",
    "                         'omega_cdm':    [0.0003, 0.149, 'uniform'],\n",
    "                         'h':            [0.64, 0.82,   'uniform'],\n",
    "                         'tau_reio':     [0.01, 0.26,   'uniform'],\n",
    "                         'n_s':          [0.86, 1.07,   'uniform'],\n",
    "                         'ln10A_s': [2.83,  3.4,  'uniform'],\n",
    "                          'omega_ax': [1e-32, 0.09,  'uniform'],\n",
    "                         'A_planck':     [1.0,   0.0025,  'gaussian'],\n",
    "                         }\n",
    "# fixed_1 = {'log10ma': 3.0, 'omega_ax': 9.794086321726434e-10}\n",
    "fixed = {'log10ma': 7.0}\n",
    "\n",
    "# instantiation\n",
    "tf_planck_ax = tf_planck2018_lite(parameters=parameters_and_priors_ax, \n",
    "                                  fix_parameters = fixed,\n",
    "                                  tf_planck2018_lite_path=tf_planck2018_lite_path,\n",
    "                                  ee_emu_model=ee_emu_model_ax,\n",
    "                                  tt_emu_model=tt_emu_model_ax,\n",
    "                                  te_emu_model=te_emu_model_ax)\n",
    "# tf_planck_2e4 = tf_planck2018_lite(parameters=parameters_and_priors_ax, \n",
    "#                                   fix_parameters = dict(),\n",
    "#                                   tf_planck2018_lite_path=tf_planck2018_lite_path,\n",
    "#                                   ee_emu_model=ee_emu_model_2e4,\n",
    "#                                   tt_emu_model=tt_emu_model_2e4,\n",
    "#                                   te_emu_model=te_emu_model_2e4)"
   ]
  },
  {
   "cell_type": "code",
   "execution_count": null,
   "metadata": {
    "id": "5BgbQvKPfmlP"
   },
   "outputs": [],
   "source": [
    "##m = 1e-25 axion\n",
    "FIDUCIAL = np.reshape(np.array([ 0.022242,  0.1197,  0.673,  0.055,  0.9658,  3.0753,  0.05, 1.0080]).astype('float32'), (1, 8))\n",
    "EPSILON  = np.reshape(np.array([ 1E-4,      1E-4,     1E-2,   1E-3,   1E-3,    1E-3,  1E-2, 1E-4]).astype('float32'), (1,8))\n",
    "# EPSILON  = np.reshape(np.array([ 1E-4,      1E-4,     1E-2,   1E-3,   1E-3,    1E-3,    1E-4]).astype('float32'), (1,7))"
   ]
  },
  {
   "cell_type": "code",
   "execution_count": null,
   "metadata": {
    "id": "ZbC92LtfWnVx"
   },
   "outputs": [],
   "source": [
    "##m = 1e-28 axion\n",
    "# path to the tf_planck2018_lite likelihood\n",
    "from axionEmu.tf_planck2018_lite_mod import tf_planck2018_lite\n",
    "tf_planck2018_lite_path = '/content/axionEmu/cosmopower/likelihoods/tf_planck2018_lite/'\n",
    "\n",
    "# parameters of the analysis, and their priors\n",
    "parameters_and_priors_ax = {'omega_b':      [0.0174, 0.0274, 'uniform'],\n",
    "                         'omega_lamda':    [0.16, 0.36, 'uniform'],\n",
    "                         'h':            [0.55, 0.82,   'uniform'],\n",
    "                         'tau_reio':     [0.01, 0.26,   'uniform'],\n",
    "                         'n_s':          [0.86, 1.07,   'uniform'],\n",
    "                         'ln10A_s': [2.83,  3.4,  'uniform'],\n",
    "                          #'log10ma': [2.9, 3.1, 'uniform'], #10^32ma(ma in unit of eV)\n",
    "                          'omega_ax': [1e-32, 0.01,  'uniform'],\n",
    "                         'A_planck':     [1.0,   0.0025,  'gaussian'],\n",
    "                         }\n",
    "# fixed_1 = {'log10ma': 3.0, 'omega_ax': 9.794086321726434e-10}\n",
    "fixed = {'log10ma': 4.0}\n",
    "# instantiation\n",
    "tf_planck_ax = tf_planck2018_lite(parameters=parameters_and_priors_ax, \n",
    "                                  fix_parameters = fixed,\n",
    "                                  tf_planck2018_lite_path=tf_planck2018_lite_path,\n",
    "                                  ee_emu_model=ee_emu_model_ax,\n",
    "                                  tt_emu_model=tt_emu_model_ax,\n",
    "                                  te_emu_model=te_emu_model_ax)\n",
    "# tf_planck_2e4 = tf_planck2018_lite(parameters=parameters_and_priors_ax, \n",
    "#                                   fix_parameters = dict(),\n",
    "#                                   tf_planck2018_lite_path=tf_planck2018_lite_path,\n",
    "#                                   ee_emu_model=ee_emu_model_2e4,\n",
    "#                                   tt_emu_model=tt_emu_model_2e4,\n",
    "#                                   te_emu_model=te_emu_model_2e4)"
   ]
  },
  {
   "cell_type": "code",
   "execution_count": null,
   "metadata": {
    "id": "KidFPk2aXEhM"
   },
   "outputs": [],
   "source": [
    "##m = 1e-28 axion\n",
    "FIDUCIAL = np.reshape(np.array([ 0.022242,  0.3107,  0.673,  0.1,  0.9658,  3.0753,  0.005, 1.0080]).astype('float32'), (1, 8))\n",
    "EPSILON  = np.reshape(np.array([ 1E-4,      1E-3,     1E-2,   1E-3,   1E-3,    1E-3,  1E-3, 1E-4]).astype('float32'), (1,8))\n",
    "# EPSILON  = np.reshape(np.array([ 1E-4,      1E-4,     1E-2,   1E-3,   1E-3,    1E-3,    1E-4]).astype('float32'), (1,7))"
   ]
  },
  {
   "cell_type": "code",
   "execution_count": null,
   "metadata": {
    "id": "XijT_ysvfozI"
   },
   "outputs": [],
   "source": [
    "#Planck TTTEEE likelihood\n",
    "@tf.function\n",
    "def log_prob_ax(theta):\n",
    "    return tf.squeeze(tf_planck_ax.posterior(theta), -1)\n"
   ]
  },
  {
   "cell_type": "code",
   "execution_count": null,
   "metadata": {
    "id": "Kpd1Ex3wfqw9"
   },
   "outputs": [],
   "source": [
    "# number of parameters\n",
    "n_params_ax = len(parameters_and_priors_ax)\n",
    "\n",
    "# number of walkers (note you'll end up with a total of 2*n_walkers for this parallel variant of the affine sampler)\n",
    "n_walkers = 50\n",
    "\n",
    "# initialize walkers and current state\n",
    "walkers1_ax = tf.random.normal([n_walkers, n_params_ax], FIDUCIAL, EPSILON)\n",
    "walkers2_ax = tf.random.normal([n_walkers, n_params_ax], FIDUCIAL, EPSILON)\n",
    "current_state_ax = [walkers1_ax, walkers2_ax]"
   ]
  },
  {
   "cell_type": "code",
   "execution_count": null,
   "metadata": {
    "colab": {
     "base_uri": "https://localhost:8080/"
    },
    "id": "88YH5x5Ift2y",
    "outputId": "56983d46-63d1-4475-c2e7-d49ba22cb22b",
    "scrolled": false
   },
   "outputs": [],
   "source": [
    "# number of MCMC steps to take (you'll end up with an MCMC chain with shape (n_steps, 2*n_walkers, n_parameters))\n",
    "n_steps = 5000\n",
    "\n",
    "# run the sampler\n",
    "with tf.device(device):\n",
    "    chain_ax = affine.affine_sample(log_prob_ax, n_steps, current_state_ax, args=[])"
   ]
  },
  {
   "cell_type": "code",
   "execution_count": null,
   "metadata": {
    "id": "ASbOjgqzf60k"
   },
   "outputs": [],
   "source": [
    "burnin_steps = 100\n",
    "samples_ax = chain_ax.numpy()[burnin_steps:,:,:].reshape((-1, n_params_ax)) #.numpy() #n_params_ax\n"
   ]
  },
  {
   "cell_type": "code",
   "execution_count": null,
   "metadata": {
    "id": "rJxK07WPIxtV"
   },
   "outputs": [],
   "source": [
    "import emcee\n",
    "auto = []\n",
    "for i in np.linspace(100, 15500, 155):\n",
    "  auto_time = np.mean(emcee.autocorr.integrated_time(chain_ax.numpy()[:int(i)], tol=0))\n",
    "  auto.append(auto_time)"
   ]
  },
  {
   "cell_type": "code",
   "execution_count": null,
   "metadata": {
    "colab": {
     "base_uri": "https://localhost:8080/",
     "height": 297
    },
    "id": "dvISruiPJdcq",
    "outputId": "0a624fcb-891e-45ff-9322-aa7baa20daab"
   },
   "outputs": [],
   "source": [
    "import matplotlib.pyplot as plt\n",
    "n = np.linspace(100, 15500, 155)\n",
    "y = auto\n",
    "plt.plot(n, n / 50.0, \"--k\")\n",
    "plt.plot(n, y)\n",
    "# plt.xlim(0, n.max())\n",
    "# plt.ylim(0, y.max() + 0.1 * (y.max() - y.min()))\n",
    "plt.xlabel(\"number of steps\")\n",
    "plt.ylabel(r\"mean $\\hat{\\tau}$\")"
   ]
  },
  {
   "cell_type": "code",
   "execution_count": null,
   "metadata": {
    "colab": {
     "base_uri": "https://localhost:8080/"
    },
    "id": "UTQHA5saxYE4",
    "outputId": "ef9a0625-7f7c-4da2-e0a3-4e779756421d"
   },
   "outputs": [],
   "source": [
    "##m = 1e-25 axion\n",
    "from getdist import plots, MCSamples\n",
    "names = [r\"\\omega_{\\mathrm{b}}\", \n",
    "         r\"\\omega_{\\mathrm{cdm}}\", \n",
    "         r\"h\", \n",
    "         r\"\\tau\",\n",
    "         r\"n_s\", \n",
    "         r\"ln 10^{10} A_s\",\n",
    "         #r\"log 10^{32} ma\",\n",
    "         r\"\\omega_{\\mathrm{ax}}\",\n",
    "         r\"A_{planck}\"]\n",
    "labels = names\n",
    "# mcsamples = MCSamples(samples=samples_test, names = names, labels = labels)\n",
    "mcsamples_ax = MCSamples(samples=samples_ax,names = names, labels = labels)\n",
    "g = plots.get_subplot_plotter()\n",
    "g.settings.axes_fontsize = 18\n",
    "g.settings.lab_fontsize = 30\n",
    "g.settings.legend_fontsize = 25"
   ]
  },
  {
   "cell_type": "code",
   "execution_count": null,
   "metadata": {
    "colab": {
     "base_uri": "https://localhost:8080/",
     "height": 1000
    },
    "id": "cqwjyTwKT2vn",
    "outputId": "ecc99bb3-bef4-4e26-c568-71bfa521951f"
   },
   "outputs": [],
   "source": [
    "##m = 1e-25 axion\n",
    "g.triangle_plot([mcsamples_ax], filled=True, legend_labels=['4e5 emulator+GPU sampler (Planck CMB data; ma=1e-25)'])\n"
   ]
  },
  {
   "cell_type": "code",
   "execution_count": null,
   "metadata": {},
   "outputs": [],
   "source": []
  }
 ],
 "metadata": {
  "accelerator": "GPU",
  "colab": {
   "include_colab_link": true,
   "machine_shape": "hm",
   "provenance": []
  },
  "gpuClass": "standard",
  "kernelspec": {
   "display_name": "Python 3",
   "language": "python",
   "name": "python3"
  },
  "language_info": {
   "codemirror_mode": {
    "name": "ipython",
    "version": 3
   },
   "file_extension": ".py",
   "mimetype": "text/x-python",
   "name": "python",
   "nbconvert_exporter": "python",
   "pygments_lexer": "ipython3",
   "version": "3.8.10"
  }
 },
 "nbformat": 4,
 "nbformat_minor": 1
}
